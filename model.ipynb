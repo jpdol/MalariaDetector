{
 "cells": [
  {
   "cell_type": "code",
   "execution_count": 2,
   "metadata": {},
   "outputs": [
    {
     "name": "stderr",
     "output_type": "stream",
     "text": [
      "Using TensorFlow backend.\n"
     ]
    }
   ],
   "source": [
    "from keras.models import Sequential\n",
    "from keras.layers import Convolution2D, MaxPooling2D, Flatten, Dense, Dropout\n",
    "from keras.preprocessing.image import ImageDataGenerator\n",
    "from keras.layers.advanced_activations import LeakyReLU"
   ]
  },
  {
   "cell_type": "code",
   "execution_count": 4,
   "metadata": {},
   "outputs": [
    {
     "name": "stderr",
     "output_type": "stream",
     "text": [
      "WARNING: Logging before flag parsing goes to stderr.\n",
      "W1105 14:30:17.333547  7280 deprecation_wrapper.py:119] From c:\\users\\jean lima\\appdata\\local\\programs\\python\\python37\\lib\\site-packages\\keras\\backend\\tensorflow_backend.py:74: The name tf.get_default_graph is deprecated. Please use tf.compat.v1.get_default_graph instead.\n",
      "\n",
      "W1105 14:30:17.411386  7280 deprecation_wrapper.py:119] From c:\\users\\jean lima\\appdata\\local\\programs\\python\\python37\\lib\\site-packages\\keras\\backend\\tensorflow_backend.py:517: The name tf.placeholder is deprecated. Please use tf.compat.v1.placeholder instead.\n",
      "\n",
      "W1105 14:30:17.440847  7280 deprecation_wrapper.py:119] From c:\\users\\jean lima\\appdata\\local\\programs\\python\\python37\\lib\\site-packages\\keras\\backend\\tensorflow_backend.py:4138: The name tf.random_uniform is deprecated. Please use tf.random.uniform instead.\n",
      "\n",
      "W1105 14:30:17.494034  7280 deprecation_wrapper.py:119] From c:\\users\\jean lima\\appdata\\local\\programs\\python\\python37\\lib\\site-packages\\keras\\backend\\tensorflow_backend.py:133: The name tf.placeholder_with_default is deprecated. Please use tf.compat.v1.placeholder_with_default instead.\n",
      "\n",
      "W1105 14:30:17.514018  7280 deprecation.py:506] From c:\\users\\jean lima\\appdata\\local\\programs\\python\\python37\\lib\\site-packages\\keras\\backend\\tensorflow_backend.py:3445: calling dropout (from tensorflow.python.ops.nn_ops) with keep_prob is deprecated and will be removed in a future version.\n",
      "Instructions for updating:\n",
      "Please use `rate` instead of `keep_prob`. Rate should be set to `rate = 1 - keep_prob`.\n",
      "W1105 14:30:17.546285  7280 deprecation_wrapper.py:119] From c:\\users\\jean lima\\appdata\\local\\programs\\python\\python37\\lib\\site-packages\\keras\\backend\\tensorflow_backend.py:3976: The name tf.nn.max_pool is deprecated. Please use tf.nn.max_pool2d instead.\n",
      "\n"
     ]
    }
   ],
   "source": [
    " classifier = Sequential()\n",
    "classifier.add(Convolution2D(32, kernel_size=(3, 3),activation='linear',input_shape=(64,64,3),padding='same'))\n",
    "classifier.add(Dropout(0.2))\n",
    "classifier.add(MaxPooling2D((2, 2),padding='same'))\n",
    "classifier.add(Convolution2D(64, (3, 3), activation='relu',padding='same'))\n",
    "classifier.add(MaxPooling2D(pool_size=(2, 2),padding='same'))\n",
    "classifier.add(Convolution2D(128, (3, 3), activation='relu',padding='same'))\n",
    "classifier.add(LeakyReLU(alpha=0.1))  \n",
    "classifier.add(Dropout(0.2))\n",
    "classifier.add(MaxPooling2D(pool_size=(2, 2),padding='same'))\n",
    "classifier.add(Flatten())\n",
    "classifier.add(Dense(128, activation='linear'))\n",
    "classifier.add(Dropout(0.5))\n",
    "classifier.add(LeakyReLU(alpha=0.1))                  \n",
    "classifier.add(Dense(2, activation='softmax'))"
   ]
  },
  {
   "cell_type": "code",
   "execution_count": 5,
   "metadata": {},
   "outputs": [
    {
     "name": "stderr",
     "output_type": "stream",
     "text": [
      "W1105 14:30:20.583108  7280 deprecation_wrapper.py:119] From c:\\users\\jean lima\\appdata\\local\\programs\\python\\python37\\lib\\site-packages\\keras\\optimizers.py:790: The name tf.train.Optimizer is deprecated. Please use tf.compat.v1.train.Optimizer instead.\n",
      "\n",
      "W1105 14:30:20.621355  7280 deprecation_wrapper.py:119] From c:\\users\\jean lima\\appdata\\local\\programs\\python\\python37\\lib\\site-packages\\keras\\backend\\tensorflow_backend.py:3295: The name tf.log is deprecated. Please use tf.math.log instead.\n",
      "\n"
     ]
    }
   ],
   "source": [
    "classifier.compile(optimizer = 'adam', loss = 'categorical_crossentropy', metrics = ['accuracy'])"
   ]
  },
  {
   "cell_type": "code",
   "execution_count": 6,
   "metadata": {},
   "outputs": [],
   "source": [
    "train_datagen = ImageDataGenerator(rescale=1./255)\n",
    "\n",
    "test_datagen = ImageDataGenerator(rescale=1./255)"
   ]
  },
  {
   "cell_type": "code",
   "execution_count": 8,
   "metadata": {},
   "outputs": [
    {
     "name": "stdout",
     "output_type": "stream",
     "text": [
      "Found 22048 images belonging to 2 classes.\n",
      "Found 5510 images belonging to 2 classes.\n"
     ]
    }
   ],
   "source": [
    "training_set = train_datagen.flow_from_directory(\n",
    "        'cell_images_train',\n",
    "        target_size=(64, 64),\n",
    "        batch_size=32,\n",
    "        class_mode='categorical')\n",
    "\n",
    "test_set = test_datagen.flow_from_directory(\n",
    "        'cell_images_test',\n",
    "        target_size=(64, 64),\n",
    "        batch_size=32,\n",
    "        class_mode='categorical')"
   ]
  },
  {
   "cell_type": "code",
   "execution_count": 9,
   "metadata": {},
   "outputs": [
    {
     "name": "stderr",
     "output_type": "stream",
     "text": [
      "W1105 14:31:46.505171  7280 deprecation.py:323] From c:\\users\\jean lima\\appdata\\local\\programs\\python\\python37\\lib\\site-packages\\tensorflow\\python\\ops\\math_grad.py:1250: add_dispatch_support.<locals>.wrapper (from tensorflow.python.ops.array_ops) is deprecated and will be removed in a future version.\n",
      "Instructions for updating:\n",
      "Use tf.where in 2.0, which has the same broadcast rule as np.where\n"
     ]
    },
    {
     "name": "stdout",
     "output_type": "stream",
     "text": [
      "Epoch 1/15\n",
      "84/84 [==============================] - 25s 299ms/step - loss: 0.7262 - acc: 0.5205 - val_loss: 0.6899 - val_acc: 0.6215\n",
      "Epoch 2/15\n",
      "84/84 [==============================] - 24s 281ms/step - loss: 0.6776 - acc: 0.5796 - val_loss: 0.6310 - val_acc: 0.6146\n",
      "Epoch 3/15\n",
      "84/84 [==============================] - 24s 282ms/step - loss: 0.6366 - acc: 0.6317 - val_loss: 0.4772 - val_acc: 0.7778\n",
      "Epoch 4/15\n",
      "84/84 [==============================] - 24s 283ms/step - loss: 0.4122 - acc: 0.8185 - val_loss: 0.2597 - val_acc: 0.9236\n",
      "Epoch 5/15\n",
      "84/84 [==============================] - 24s 282ms/step - loss: 0.2178 - acc: 0.9260 - val_loss: 0.2170 - val_acc: 0.9375\n",
      "Epoch 6/15\n",
      "84/84 [==============================] - 24s 283ms/step - loss: 0.2102 - acc: 0.9315 - val_loss: 0.2123 - val_acc: 0.9306\n",
      "Epoch 7/15\n",
      "84/84 [==============================] - 24s 283ms/step - loss: 0.1759 - acc: 0.9420 - val_loss: 0.1823 - val_acc: 0.9306\n",
      "Epoch 8/15\n",
      "84/84 [==============================] - 24s 282ms/step - loss: 0.1504 - acc: 0.9509 - val_loss: 0.1384 - val_acc: 0.9514\n",
      "Epoch 9/15\n",
      "84/84 [==============================] - 24s 281ms/step - loss: 0.1554 - acc: 0.9479 - val_loss: 0.1190 - val_acc: 0.9653\n",
      "Epoch 10/15\n",
      "84/84 [==============================] - 24s 282ms/step - loss: 0.1453 - acc: 0.9498 - val_loss: 0.1706 - val_acc: 0.9410\n",
      "Epoch 11/15\n",
      "84/84 [==============================] - 24s 281ms/step - loss: 0.1618 - acc: 0.9475 - val_loss: 0.0990 - val_acc: 0.9757\n",
      "Epoch 12/15\n",
      "84/84 [==============================] - 24s 280ms/step - loss: 0.1294 - acc: 0.9609 - val_loss: 0.1066 - val_acc: 0.9618\n",
      "Epoch 13/15\n",
      "84/84 [==============================] - 24s 281ms/step - loss: 0.1625 - acc: 0.9472 - val_loss: 0.1444 - val_acc: 0.9549\n",
      "Epoch 14/15\n",
      "84/84 [==============================] - 23s 280ms/step - loss: 0.1472 - acc: 0.9531 - val_loss: 0.1340 - val_acc: 0.9444\n",
      "Epoch 15/15\n",
      "84/84 [==============================] - 24s 282ms/step - loss: 0.1339 - acc: 0.9580 - val_loss: 0.1529 - val_acc: 0.9688\n"
     ]
    }
   ],
   "source": [
    "epochs = 15\n",
    "\n",
    "history = classifier.fit_generator(\n",
    "        training_set,\n",
    "        steps_per_epoch=2700//32,\n",
    "        epochs=epochs,\n",
    "        validation_data=test_set,\n",
    "        validation_steps=300//32,\n",
    "        verbose = 1)"
   ]
  },
  {
   "cell_type": "code",
   "execution_count": 11,
   "metadata": {},
   "outputs": [
    {
     "data": {
      "image/png": "[encoded data removed]",
      "text/plain": [
       "<Figure size 432x288 with 1 Axes>"
      ]
     },
     "metadata": {
      "needs_background": "light"
     },
     "output_type": "display_data"
    }
   ],
   "source": [
    "import matplotlib.pyplot as plt\n",
    "\n",
    "history_dict = history.history\n",
    "loss_values = history_dict['loss']\n",
    "val_loss_values = history_dict['val_loss']\n",
    "\n",
    "epochs_x = range(1,  epochs+1)\n",
    "plt.plot(epochs_x, loss_values, 'bo', label='Training loss')\n",
    "plt.plot(epochs_x, val_loss_values, 'b', label='Validation loss')\n",
    "plt.title('Training and validation loss')\n",
    "plt.xlabel('Epochs')\n",
    "plt.ylabel('Loss')\n",
    "plt.legend()\n",
    "plt.savefig('Training and validation loss')\n",
    "plt.show()"
   ]
  },
  {
   "cell_type": "code",
   "execution_count": 12,
   "metadata": {},
   "outputs": [
    {
     "data": {
      "image/png": "[encoded data removed]",
      "text/plain": [
       "<Figure size 432x288 with 1 Axes>"
      ]
     },
     "metadata": {
      "needs_background": "light"
     },
     "output_type": "display_data"
    }
   ],
   "source": [
    "acc_values = history_dict['acc']\n",
    "val_acc_values = history_dict['val_acc']\n",
    "plt.plot(epochs_x, acc_values, 'bo', label='Training acc')\n",
    "plt.plot(epochs_x, val_acc_values, 'b', label='Validation acc')\n",
    "plt.title('Training and validation accuracy')\n",
    "plt.xlabel('Epochs')\n",
    "plt.ylabel('Loss')\n",
    "plt.legend()\n",
    "plt.savefig('Training and validation accuracy')\n",
    "plt.show()"
   ]
  },
  {
   "cell_type": "code",
   "execution_count": 14,
   "metadata": {},
   "outputs": [
    {
     "name": "stdout",
     "output_type": "stream",
     "text": [
      "Found 5510 images belonging to 2 classes.\n",
      "[[1988   94]\n",
      " [  82 1959]]\n",
      "               precision    recall  f1-score   support\n",
      "\n",
      "    infectado       0.96      0.95      0.96      2082\n",
      "não infectado       0.95      0.96      0.96      2041\n",
      "\n",
      "     accuracy                           0.96      4123\n",
      "    macro avg       0.96      0.96      0.96      4123\n",
      " weighted avg       0.96      0.96      0.96      4123\n",
      "\n"
     ]
    }
   ],
   "source": [
    "import pandas as pd\n",
    "import numpy as np\n",
    "\n",
    "predict_gen = test_datagen.flow_from_directory(directory='cell_images_test',\n",
    "                                                              target_size=[64,64],\n",
    "                                                              batch_size=4123,\n",
    "                                                              class_mode='categorical')\n",
    "\n",
    "X_val_sample, res = next(predict_gen)\n",
    "y_pred = classifier.predict(X_val_sample)\n",
    "#classifier.evaluate_generator(test_datagen, steps=1, max_queue_size=10, workers=1, use_multiprocessing=False, verbose=1)\n",
    "onedtrue = []\n",
    "onedpred = []\n",
    "for true, pred in zip(res, y_pred):\n",
    "    onedtrue.append(np.argmax(true))\n",
    "    onedpred.append(np.argmax(pred))\n",
    "    \n",
    "from sklearn.metrics import confusion_matrix\n",
    "print(confusion_matrix(onedtrue, onedpred))\n",
    "\n",
    "from sklearn.metrics import classification_report\n",
    "target_names = ['infectado', 'não infectado']\n",
    "\n",
    "print(classification_report(onedtrue, onedpred, target_names=target_names))"
   ]
  },
  {
   "cell_type": "code",
   "execution_count": 15,
   "metadata": {},
   "outputs": [],
   "source": [
    "classifier.save('malaria-9688.h5')"
   ]
  }
 ],
 "metadata": {
  "kernelspec": {
   "display_name": "Python 3",
   "language": "python",
   "name": "python3"
  },
  "language_info": {
   "codemirror_mode": {
    "name": "ipython",
    "version": 3
   },
   "file_extension": ".py",
   "mimetype": "text/x-python",
   "name": "python",
   "nbconvert_exporter": "python",
   "pygments_lexer": "ipython3",
   "version": "3.7.3"
  }
 },
 "nbformat": 4,
 "nbformat_minor": 2
}
